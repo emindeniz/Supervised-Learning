{
 "cells": [
  {
   "cell_type": "markdown",
   "metadata": {},
   "source": [
    "# Project 2: Supervised Learning\n",
    "### Building a Student Intervention System"
   ]
  },
  {
   "cell_type": "markdown",
   "metadata": {},
   "source": [
    "## 1. Classification vs Regression\n",
    "\n",
    "Your goal is to identify students who might need early intervention - which type of supervised machine learning problem is this, classification or regression? Why?\n",
    "\n",
    "ANSWER: This is a problem of classification because we need to have a discrete prediction for each student. In other words we will predict whether a student will drop out or graduate from high school. "
   ]
  },
  {
   "cell_type": "markdown",
   "metadata": {},
   "source": [
    "## 2. Exploring the Data\n",
    "\n",
    "Let's go ahead and read in the student dataset first.\n",
    "\n",
    "_To execute a code cell, click inside it and press **Shift+Enter**._"
   ]
  },
  {
   "cell_type": "code",
   "execution_count": 1,
   "metadata": {
    "collapsed": false
   },
   "outputs": [],
   "source": [
    "# Import libraries\n",
    "import numpy as np\n",
    "import pandas as pd"
   ]
  },
  {
   "cell_type": "code",
   "execution_count": 2,
   "metadata": {
    "collapsed": false
   },
   "outputs": [
    {
     "name": "stdout",
     "output_type": "stream",
     "text": [
      "Student data read successfully!\n"
     ]
    }
   ],
   "source": [
    "# Read student data\n",
    "student_data = pd.read_csv(\"student-data.csv\")\n",
    "print \"Student data read successfully!\"\n",
    "# Note: The last column 'passed' is the target/label, all other are feature columns"
   ]
  },
  {
   "cell_type": "markdown",
   "metadata": {},
   "source": [
    "Now, can you find out the following facts about the dataset?\n",
    "- Total number of students\n",
    "- Number of students who passed\n",
    "- Number of students who failed\n",
    "- Graduation rate of the class (%)\n",
    "- Number of features\n",
    "\n",
    "_Use the code block below to compute these values. Instructions/steps are marked using **TODO**s._"
   ]
  },
  {
   "cell_type": "code",
   "execution_count": 3,
   "metadata": {
    "collapsed": false
   },
   "outputs": [
    {
     "name": "stdout",
     "output_type": "stream",
     "text": [
      "Total number of students: 395\n",
      "Number of students who passed: 265\n",
      "Number of students who failed: 130\n",
      "Number of features: 30\n",
      "Graduation rate of the class: 67.09%\n"
     ]
    }
   ],
   "source": [
    "# TODO: Compute desired values - replace each '?' with an appropriate expression/function call\n",
    "#print student_data\n",
    "from __future__ import division #This code is necessary otherwise division operator produces zero\n",
    "student_data_shape = np.shape(student_data)\n",
    "n_students = student_data_shape[0]\n",
    "n_features = student_data_shape[1]-1 #-1 is necessary in order to adjust for the presence of target column\n",
    "n_passed = np.shape(student_data[student_data['passed']=='yes'])[0]\n",
    "n_failed = np.shape(student_data[student_data['passed']=='no'])[0]\n",
    "grad_rate = n_passed/n_students*100 \n",
    "print \"Total number of students: {}\".format(n_students)\n",
    "print \"Number of students who passed: {}\".format(n_passed)\n",
    "print \"Number of students who failed: {}\".format(n_failed)\n",
    "print \"Number of features: {}\".format(n_features)\n",
    "print \"Graduation rate of the class: {:.2f}%\".format(grad_rate)"
   ]
  },
  {
   "cell_type": "markdown",
   "metadata": {},
   "source": [
    "## 3. Preparing the Data\n",
    "In this section, we will prepare the data for modeling, training and testing.\n",
    "\n",
    "### Identify feature and target columns\n",
    "It is often the case that the data you obtain contains non-numeric features. This can be a problem, as most machine learning algorithms expect numeric data to perform computations with.\n",
    "\n",
    "Let's first separate our data into feature and target columns, and see if any features are non-numeric.<br/>\n",
    "**Note**: For this dataset, the last column (`'passed'`) is the target or label we are trying to predict."
   ]
  },
  {
   "cell_type": "code",
   "execution_count": 4,
   "metadata": {
    "collapsed": false
   },
   "outputs": [
    {
     "name": "stdout",
     "output_type": "stream",
     "text": [
      "Feature column(s):-\n",
      "['school', 'sex', 'age', 'address', 'famsize', 'Pstatus', 'Medu', 'Fedu', 'Mjob', 'Fjob', 'reason', 'guardian', 'traveltime', 'studytime', 'failures', 'schoolsup', 'famsup', 'paid', 'activities', 'nursery', 'higher', 'internet', 'romantic', 'famrel', 'freetime', 'goout', 'Dalc', 'Walc', 'health', 'absences']\n",
      "Target column: passed\n",
      "\n",
      "Feature values:-\n",
      "  school sex  age address famsize Pstatus  Medu  Fedu     Mjob      Fjob  \\\n",
      "0     GP   F   18       U     GT3       A     4     4  at_home   teacher   \n",
      "1     GP   F   17       U     GT3       T     1     1  at_home     other   \n",
      "2     GP   F   15       U     LE3       T     1     1  at_home     other   \n",
      "3     GP   F   15       U     GT3       T     4     2   health  services   \n",
      "4     GP   F   16       U     GT3       T     3     3    other     other   \n",
      "\n",
      "    ...    higher internet  romantic  famrel  freetime goout Dalc Walc health  \\\n",
      "0   ...       yes       no        no       4         3     4    1    1      3   \n",
      "1   ...       yes      yes        no       5         3     3    1    1      3   \n",
      "2   ...       yes      yes        no       4         3     2    2    3      3   \n",
      "3   ...       yes      yes       yes       3         2     2    1    1      5   \n",
      "4   ...       yes       no        no       4         3     2    1    2      5   \n",
      "\n",
      "  absences  \n",
      "0        6  \n",
      "1        4  \n",
      "2       10  \n",
      "3        2  \n",
      "4        4  \n",
      "\n",
      "[5 rows x 30 columns]\n"
     ]
    }
   ],
   "source": [
    "# Extract feature (X) and target (y) columns\n",
    "feature_cols = list(student_data.columns[:-1])  # all columns but last are features\n",
    "target_col = student_data.columns[-1]  # last column is the target/label\n",
    "print \"Feature column(s):-\\n{}\".format(feature_cols)\n",
    "print \"Target column: {}\".format(target_col)\n",
    "\n",
    "X_all = student_data[feature_cols]  # feature values for all students\n",
    "y_all = student_data[target_col]  # corresponding targets/labels\n",
    "print \"\\nFeature values:-\"\n",
    "print X_all.head()  # print the first 5 rows"
   ]
  },
  {
   "cell_type": "markdown",
   "metadata": {},
   "source": [
    "### Preprocess feature columns\n",
    "\n",
    "As you can see, there are several non-numeric columns that need to be converted! Many of them are simply `yes`/`no`, e.g. `internet`. These can be reasonably converted into `1`/`0` (binary) values.\n",
    "\n",
    "Other columns, like `Mjob` and `Fjob`, have more than two values, and are known as _categorical variables_. The recommended way to handle such a column is to create as many columns as possible values (e.g. `Fjob_teacher`, `Fjob_other`, `Fjob_services`, etc.), and assign a `1` to one of them and `0` to all others.\n",
    "\n",
    "These generated columns are sometimes called _dummy variables_, and we will use the [`pandas.get_dummies()`](http://pandas.pydata.org/pandas-docs/stable/generated/pandas.get_dummies.html?highlight=get_dummies#pandas.get_dummies) function to perform this transformation."
   ]
  },
  {
   "cell_type": "code",
   "execution_count": 5,
   "metadata": {
    "collapsed": false
   },
   "outputs": [
    {
     "name": "stdout",
     "output_type": "stream",
     "text": [
      "Processed feature columns (48):-\n",
      "['school_GP', 'school_MS', 'sex_F', 'sex_M', 'age', 'address_R', 'address_U', 'famsize_GT3', 'famsize_LE3', 'Pstatus_A', 'Pstatus_T', 'Medu', 'Fedu', 'Mjob_at_home', 'Mjob_health', 'Mjob_other', 'Mjob_services', 'Mjob_teacher', 'Fjob_at_home', 'Fjob_health', 'Fjob_other', 'Fjob_services', 'Fjob_teacher', 'reason_course', 'reason_home', 'reason_other', 'reason_reputation', 'guardian_father', 'guardian_mother', 'guardian_other', 'traveltime', 'studytime', 'failures', 'schoolsup', 'famsup', 'paid', 'activities', 'nursery', 'higher', 'internet', 'romantic', 'famrel', 'freetime', 'goout', 'Dalc', 'Walc', 'health', 'absences']\n"
     ]
    },
    {
     "data": {
      "text/plain": [
       "1    0\n",
       "2    3\n",
       "3    0\n",
       "4    0\n",
       "Name: failures, dtype: int64"
      ]
     },
     "execution_count": 5,
     "metadata": {},
     "output_type": "execute_result"
    }
   ],
   "source": [
    "# Preprocess feature columns\n",
    "def preprocess_features(X):\n",
    "    outX = pd.DataFrame(index=X.index)  # output dataframe, initially empty\n",
    "\n",
    "    # Check each column\n",
    "    for col, col_data in X.iteritems():\n",
    "        # If data type is non-numeric, try to replace all yes/no values with 1/0\n",
    "        if col_data.dtype == object:\n",
    "            col_data = col_data.replace(['yes', 'no'], [1, 0])\n",
    "        # Note: This should change the data type for yes/no columns to int\n",
    "\n",
    "        # If still non-numeric, convert to one or more dummy variables\n",
    "        if col_data.dtype == object:\n",
    "            col_data = pd.get_dummies(col_data, prefix=col)  # e.g. 'school' => 'school_GP', 'school_MS'\n",
    "\n",
    "        outX = outX.join(col_data)  # collect column(s) in output dataframe\n",
    "\n",
    "    return outX\n",
    "\n",
    "X_all = preprocess_features(X_all)\n",
    "print \"Processed feature columns ({}):-\\n{}\".format(len(X_all.columns), list(X_all.columns))\n",
    "X_all.iloc[1:5,32]"
   ]
  },
  {
   "cell_type": "markdown",
   "metadata": {},
   "source": [
    "### Split data into training and test sets\n",
    "\n",
    "So far, we have converted all _categorical_ features into numeric values. In this next step, we split the data (both features and corresponding labels) into training and test sets."
   ]
  },
  {
   "cell_type": "code",
   "execution_count": 6,
   "metadata": {
    "collapsed": false
   },
   "outputs": [
    {
     "name": "stdout",
     "output_type": "stream",
     "text": [
      "Training set: 300 samples\n",
      "Test set: 95 samples\n"
     ]
    }
   ],
   "source": [
    "from sklearn.cross_validation import train_test_split\n",
    "from __future__ import division\n",
    "# First, decide how many training vs test samples you want\n",
    "num_all = student_data.shape[0]  # same as len(student_data)\n",
    "num_train = 300  # about 75% of the data\n",
    "num_test = num_all - num_train\n",
    "test_size_value = num_test/num_all\n",
    "# TODO: Then, select features (X) and corresponding labels (y) for the training and test sets\n",
    "# Note: Shuffle the data or randomly select samples to avoid any bias due to ordering in the dataset\n",
    "X_train, X_test, y_train, y_test = train_test_split(X_all, y_all, test_size=test_size_value, random_state=0)\n",
    "\n",
    "print \"Training set: {} samples\".format(X_train.shape[0])\n",
    "print \"Test set: {} samples\".format(X_test.shape[0])\n",
    "# Note: If you need a validation set, extract it from within training data"
   ]
  },
  {
   "cell_type": "markdown",
   "metadata": {},
   "source": [
    "## 4. Training and Evaluating Models\n",
    "Choose 3 supervised learning models that are available in scikit-learn, and appropriate for this problem. For each model:\n",
    "\n",
    "- What are the general applications of this model? What are its strengths and weaknesses?\n",
    "- Given what you know about the data so far, why did you choose this model to apply?\n",
    "- Fit this model to the training data, try to predict labels (for both training and test sets), and measure the F<sub>1</sub> score. Repeat this process with different training set sizes (100, 200, 300), keeping test set constant.\n",
    "\n",
    "Produce a table showing training time, prediction time, F<sub>1</sub> score on training set and F<sub>1</sub> score on test set, for each training set size.\n",
    "\n",
    "Note: You need to produce 3 such tables - one for each model."
   ]
  },
  {
   "cell_type": "code",
   "execution_count": 7,
   "metadata": {
    "collapsed": false
   },
   "outputs": [
    {
     "name": "stdout",
     "output_type": "stream",
     "text": [
      "Training DecisionTreeClassifier...\n",
      "Done!\n",
      "Training time (secs): 0.000000000000000\n"
     ]
    }
   ],
   "source": [
    "# Train a model\n",
    "import time\n",
    "\n",
    "def train_classifier(clf, X_train, y_train):\n",
    "    print \"Training {}...\".format(clf.__class__.__name__)\n",
    "    start = time.time()\n",
    "    clf.fit(X_train, y_train)\n",
    "    end = time.time()\n",
    "    print \"Done!\\nTraining time (secs): {:.15f}\".format(end - start)\n",
    "\n",
    "# TODO: Choose a model, import it and instantiate an object\n",
    "from sklearn import tree\n",
    "clf = tree.DecisionTreeClassifier()\n",
    "\n",
    "# Fit model to training data\n",
    "train_classifier(clf, X_train, y_train)  # note: using entire training set here\n",
    "#print clf  # you can inspect the learned model by printing it"
   ]
  },
  {
   "cell_type": "code",
   "execution_count": 8,
   "metadata": {
    "collapsed": false
   },
   "outputs": [
    {
     "name": "stdout",
     "output_type": "stream",
     "text": [
      "Predicting labels using DecisionTreeClassifier...\n",
      "Done!\n",
      "Prediction time (secs): 0.000000000000000\n",
      "F1 score for training set: 1.0\n"
     ]
    }
   ],
   "source": [
    "# Predict on training set and compute F1 score\n",
    "from sklearn.metrics import f1_score\n",
    "\n",
    "def predict_labels(clf, features, target):\n",
    "    print \"Predicting labels using {}...\".format(clf.__class__.__name__)\n",
    "    start = time.time()\n",
    "    y_pred = clf.predict(features)\n",
    "    end = time.time()\n",
    "    print \"Done!\\nPrediction time (secs): {:.15f}\".format(end - start)\n",
    "    return f1_score(target.values, y_pred, pos_label='yes')\n",
    "\n",
    "train_f1_score = predict_labels(clf, X_train, y_train)\n",
    "print \"F1 score for training set: {}\".format(train_f1_score)"
   ]
  },
  {
   "cell_type": "code",
   "execution_count": 9,
   "metadata": {
    "collapsed": false
   },
   "outputs": [
    {
     "name": "stdout",
     "output_type": "stream",
     "text": [
      "Predicting labels using DecisionTreeClassifier...\n",
      "Done!\n",
      "Prediction time (secs): 0.000000000000000\n",
      "F1 score for test set: 0.704918032787\n"
     ]
    }
   ],
   "source": [
    "# Predict on test data\n",
    "print \"F1 score for test set: {}\".format(predict_labels(clf, X_test, y_test))"
   ]
  },
  {
   "cell_type": "code",
   "execution_count": 10,
   "metadata": {
    "collapsed": false
   },
   "outputs": [
    {
     "name": "stdout",
     "output_type": "stream",
     "text": [
      "------------------------------------------\n",
      "Training set size: 100\n",
      "Training DecisionTreeClassifier...\n",
      "Done!\n",
      "Training time (secs): 0.000000000000000\n",
      "Predicting labels using DecisionTreeClassifier...\n",
      "Done!\n",
      "Prediction time (secs): 0.000000000000000\n",
      "F1 score for training set: 1.0\n",
      "Predicting labels using DecisionTreeClassifier...\n",
      "Done!\n",
      "Prediction time (secs): 0.000000000000000\n",
      "F1 score for test set: 0.683760683761\n",
      "------------------------------------------\n",
      "Training set size: 200\n",
      "Training DecisionTreeClassifier...\n",
      "Done!\n",
      "Training time (secs): 0.000000000000000\n",
      "Predicting labels using DecisionTreeClassifier...\n",
      "Done!\n",
      "Prediction time (secs): 0.000000000000000\n",
      "F1 score for training set: 1.0\n",
      "Predicting labels using DecisionTreeClassifier...\n",
      "Done!\n",
      "Prediction time (secs): 0.000000000000000\n",
      "F1 score for test set: 0.730158730159\n",
      "------------------------------------------\n",
      "Training set size: 300\n",
      "Training DecisionTreeClassifier...\n",
      "Done!\n",
      "Training time (secs): 0.000000000000000\n",
      "Predicting labels using DecisionTreeClassifier...\n",
      "Done!\n",
      "Prediction time (secs): 0.000000000000000\n",
      "F1 score for training set: 1.0\n",
      "Predicting labels using DecisionTreeClassifier...\n",
      "Done!\n",
      "Prediction time (secs): 0.000000000000000\n",
      "F1 score for test set: 0.728813559322\n"
     ]
    }
   ],
   "source": [
    "# Train and predict using different training set sizes\n",
    "def train_predict(clf, X_train, y_train, X_test, y_test):\n",
    "    print \"------------------------------------------\"\n",
    "    print \"Training set size: {}\".format(len(X_train))\n",
    "    train_classifier(clf, X_train, y_train)\n",
    "    print \"F1 score for training set: {}\".format(predict_labels(clf, X_train, y_train))\n",
    "    print \"F1 score for test set: {}\".format(predict_labels(clf, X_test, y_test))\n",
    "\n",
    "# TODO: Run the helper function above for desired subsets of training data\n",
    "# Note: Keep the test set constant\n",
    "train_predict(clf, X_train[:100], y_train[:100], X_test, y_test)\n",
    "train_predict(clf, X_train[:200], y_train[:200], X_test, y_test)\n",
    "train_predict(clf, X_train[:300], y_train[:300], X_test, y_test)\n"
   ]
  },
  {
   "cell_type": "code",
   "execution_count": 11,
   "metadata": {
    "collapsed": false
   },
   "outputs": [
    {
     "name": "stdout",
     "output_type": "stream",
     "text": [
      "------------------------------------------\n",
      "Training set size: 100\n",
      "Training SVC...\n",
      "Done!\n",
      "Training time (secs): 0.000000000000000\n",
      "Predicting labels using SVC...\n",
      "Done!\n",
      "Prediction time (secs): 0.000000000000000\n",
      "F1 score for training set: 0.859060402685\n",
      "Predicting labels using SVC...\n",
      "Done!\n",
      "Prediction time (secs): 0.000000000000000\n",
      "F1 score for test set: 0.783783783784\n",
      "------------------------------------------\n",
      "Training set size: 200\n",
      "Training SVC...\n",
      "Done!\n",
      "Training time (secs): 0.000000000000000\n",
      "Predicting labels using SVC...\n",
      "Done!\n",
      "Prediction time (secs): 0.000000000000000\n",
      "F1 score for training set: 0.869281045752\n",
      "Predicting labels using SVC...\n",
      "Done!\n",
      "Prediction time (secs): 0.015000104904175\n",
      "F1 score for test set: 0.775510204082\n",
      "------------------------------------------\n",
      "Training set size: 300\n",
      "Training SVC...\n",
      "Done!\n",
      "Training time (secs): 0.000000000000000\n",
      "Predicting labels using SVC...\n",
      "Done!\n",
      "Prediction time (secs): 0.000000000000000\n",
      "F1 score for training set: 0.869198312236\n",
      "Predicting labels using SVC...\n",
      "Done!\n",
      "Prediction time (secs): 0.000000000000000\n",
      "F1 score for test set: 0.758620689655\n"
     ]
    }
   ],
   "source": [
    "# TODO: Train and predict using two other models\n",
    "from sklearn import svm\n",
    "clf = svm.SVC()\n",
    "train_predict(clf, X_train[:100], y_train[:100], X_test, y_test)\n",
    "train_predict(clf, X_train[:200], y_train[:200], X_test, y_test)\n",
    "train_predict(clf, X_train[:300], y_train[:300], X_test, y_test)"
   ]
  },
  {
   "cell_type": "code",
   "execution_count": 12,
   "metadata": {
    "collapsed": false
   },
   "outputs": [
    {
     "name": "stdout",
     "output_type": "stream",
     "text": [
      "------------------------------------------\n",
      "Training set size: 100\n",
      "Training KNeighborsClassifier...\n",
      "Done!\n",
      "Training time (secs): 0.000000000000000\n",
      "Predicting labels using KNeighborsClassifier...\n",
      "Done!\n",
      "Prediction time (secs): 0.000000000000000\n",
      "F1 score for training set: 0.797202797203\n",
      "Predicting labels using KNeighborsClassifier...\n",
      "Done!\n",
      "Prediction time (secs): 0.000000000000000\n",
      "F1 score for test set: 0.706766917293\n",
      "------------------------------------------\n",
      "Training set size: 200\n",
      "Training KNeighborsClassifier...\n",
      "Done!\n",
      "Training time (secs): 0.000000000000000\n",
      "Predicting labels using KNeighborsClassifier...\n",
      "Done!\n",
      "Prediction time (secs): 0.000000000000000\n",
      "F1 score for training set: 0.857142857143\n",
      "Predicting labels using KNeighborsClassifier...\n",
      "Done!\n",
      "Prediction time (secs): 0.000000000000000\n",
      "F1 score for test set: 0.712121212121\n",
      "------------------------------------------\n",
      "Training set size: 300\n",
      "Training KNeighborsClassifier...\n",
      "Done!\n",
      "Training time (secs): 0.000000000000000\n",
      "Predicting labels using KNeighborsClassifier...\n",
      "Done!\n",
      "Prediction time (secs): 0.000000000000000\n",
      "F1 score for training set: 0.872246696035\n",
      "Predicting labels using KNeighborsClassifier...\n",
      "Done!\n",
      "Prediction time (secs): 0.000000000000000\n",
      "F1 score for test set: 0.748201438849\n"
     ]
    }
   ],
   "source": [
    "# TODO: Train and predict using two other models\n",
    "from sklearn import neighbors\n",
    "clf = neighbors.KNeighborsClassifier()\n",
    "train_predict(clf, X_train[:100], y_train[:100], X_test, y_test)\n",
    "train_predict(clf, X_train[:200], y_train[:200], X_test, y_test)\n",
    "train_predict(clf, X_train[:300], y_train[:300], X_test, y_test)"
   ]
  },
  {
   "cell_type": "code",
   "execution_count": 13,
   "metadata": {
    "collapsed": false
   },
   "outputs": [
    {
     "name": "stdout",
     "output_type": "stream",
     "text": [
      "Performance for KNN:\n",
      "   F1_test  F1_train  Predtime_test  Predtime_train  Train_times    labels\n",
      "0     0.71      0.80           0.00            0.00         0.01  Size_100\n",
      "1     0.71      0.86           0.01            0.02         0.00  Size_200\n",
      "2     0.75      0.87           0.01            0.03         0.01  Size_300\n",
      "Performance for Decision Tree:\n",
      "   F1_test  F1_train  Predtime_test  Predtime_train  Train_times    labels\n",
      "0     0.69         1              0            0.01         0.00  Size_100\n",
      "1     0.74         1              0            0.00         0.01  Size_200\n",
      "2     0.70         1              0            0.00         0.01  Size_300\n",
      "Performance for SVM:\n",
      "   F1_test  F1_train  Predtime_test  Predtime_train  Train_times    labels\n",
      "0    0.784     0.859           0.00            0.00         0.01  Size_100\n",
      "1    0.775     0.869           0.01            0.01         0.01  Size_200\n",
      "2    0.758     0.869           0.01            0.02         0.02  Size_300\n"
     ]
    }
   ],
   "source": [
    "data = {'labels': ['Size_100', 'Size_200', 'Size_300'],\n",
    "            'Train_times': [0.01,0,0.01],\n",
    "            'Predtime_train': [0,0.02,0.03],\n",
    "            'Predtime_test': [0,0.01,0.01],\n",
    "            'F1_train': [0.80,0.860,0.87],\n",
    "            'F1_test': [0.71,0.71,0.75]}\n",
    "KNN_data = pd.DataFrame(data)\n",
    "print 'Performance for KNN:'\n",
    "print KNN_data\n",
    "data = {'labels': ['Size_100', 'Size_200', 'Size_300'],\n",
    "            'Train_times': [0,0.01,0.01],\n",
    "            'Predtime_train': [0.01,0,0],\n",
    "            'Predtime_test': [0,0,0],\n",
    "            'F1_train': [1,1,1],\n",
    "            'F1_test': [0.69,0.74,0.70]}\n",
    "Decision_data = pd.DataFrame(data)\n",
    "print 'Performance for Decision Tree:'\n",
    "print Decision_data\n",
    "data = {'labels': ['Size_100', 'Size_200', 'Size_300'],\n",
    "            'Train_times': [0.01,0.01,0.02],\n",
    "            'Predtime_train': [0,0.01,0.02],\n",
    "            'Predtime_test': [0,0.01,0.01],\n",
    "            'F1_train': [0.859,0.869,0.869],\n",
    "            'F1_test': [0.784,0.775,0.758]}\n",
    "SVM_data = pd.DataFrame(data)\n",
    "print 'Performance for SVM:'\n",
    "print SVM_data"
   ]
  },
  {
   "cell_type": "markdown",
   "metadata": {},
   "source": [
    "## General Discussion for each Model:\n",
    "### Decision Tree Algorithm: \n",
    "Decision trees create a model or a tree that predicts the value of a target variable(in this cassed passed) by learning simple decision rules from the data. For example in our data set it is most likely that children with only one guardian are more likely to drop out of school. In this case a simple decision tree with one node would classify pupils as dropouts if one of the guardian variables are zero.\n",
    "#### Advantages and Disadvantages of Decision Trees:\n",
    "Decision trees have many advantages. First of all they can be easiliy visualized. This is not possible in case of many other algorithms. For example, in SVM, it is basically impossible for us to imagine data in 10 dimensional space. Secondly, they have logarithmic run times, therefore they are very fast. When examining the performance table above you can see that they are the fastest. Another advantage would be that decision trees can use categorical data even without any formating, however in our examples we are already preprocessing data, so we are taking advantage of this feature.\n",
    "\n",
    "Several disadvantages exist. First it is easy to see from the performance table that the decision tree that we have created is overfitting and there is huge difference between F1 scores of training and testing data sets. Second disadvantage is that decision trees do not perform well if one the classes dominates, but I think in this case it is 30% vs. 70%, so they are roughly equal.\n",
    "\n",
    "Given this discussion, I tried decision trees for this particular problem because they are usually used for classification, easy to understand and visualize and suitable for our data where most of the features are categorical.\n",
    "### Support Vector Machines: \n",
    "Support vector machines are a set of classifiers that try to find the optimum linear seperator between two classes. Although in reality most data would not be linearly seperable, SVM uses a kernel trick that adds news features into the data by combining existing features in various ways. For example a set of data points containing x and y features may not be linearly seperable in two dimensional space, but they may be in three dimensional space where x^2+y^2 is the third variable.\n",
    "#### Advantages and Disadvantages of Support Vector Machines:\n",
    "There are two advantages of using support vector machines. One is that they use only a small subset of data in order to train model and they are called support vectors. This is a more memory efficient method in situations where we have tons of data. A second advantage is that they are robust in cases where the number of data points are on the order of the number of features. In other words they suffer less from the curse of dimensionality.\n",
    "\n",
    "There may be two disadvanges. One is that it may difficult to explain how they work. The concept of high dimensionalty may be difficult to grasp. SVM also does not work when the number of features are much bigger than data, but this is rarely the case.\n",
    "I think it is suitable in this case because it is a widely used classification algorithm that performs best right out of the box.\n",
    "### K nearest neighbours algorithm: \n",
    "Classifiction based on nearest neighbours algorithm is one where no explicit model for the data is constructed. Classifier simply stores the data and whenever a new point comes, classifier assings the new point to a class based on its closest k neighbours.\n",
    "#### Advantages and Disadvantages of KNN:\n",
    "The main advantage of KNN is that training times are short. There is essentially no training and no model. Therefore it is easy to update KNN as the new data comes.  Another advantage is that it will be very easy to explaing this model in laymen's terms. However the disadvantage is that predicting each new data point takes a long time. For each data point we have to calculate its nearest neighbours. Another disadvantage is the curse of dimensionality as explaing by Charles Isbell during the lectures. As the dimensions of the feature space increases each data point is going to represent a bigger volume of space for which it may not be representative. \n",
    "I wanted to try KNN also as it is a very simple algorithms that makes no assumption about the data.\n"
   ]
  },
  {
   "cell_type": "markdown",
   "metadata": {},
   "source": [
    "## 5. Choosing the Best Model\n",
    "\n",
    "- Based on the experiments you performed earlier, in 1-2 paragraphs explain to the board of supervisors what single model you chose as the best model. Which model is generally the most appropriate based on the available data, limited resources, cost, and performance?\n",
    "- In 1-2 paragraphs explain to the board of supervisors in layman's terms how the final model chosen is supposed to work (for example if you chose a Decision Tree or Support Vector Machine, how does it make a prediction).\n",
    "- Fine-tune the model. Use Gridsearch with at least one important parameter tuned and with at least 3 settings. Use the entire training set for this.\n",
    "- What is the model's final F<sub>1</sub> score?"
   ]
  },
  {
   "cell_type": "markdown",
   "metadata": {
    "collapsed": true
   },
   "source": [
    "#### Justification for the final model:\n",
    "\n",
    "Based on all the experiments I have done, I have settled on a decision tree. First reason is the computational costs. Among three algorithms, decision tree had the lowest prediction and training times. In terms of performance, although decision tree came last, this was because decision tree algorithm overfits right out of the box. We can see this if we compare F1 scores on the training and testing set. F1 score on the trainig set is 1, but F1 score on the testing set is low. This is not the case for other algorithms. Therefore I don't think this is a reason to reject decision tree and it can be optimized.\n",
    "\n",
    "Final F1 score for my optimized model was 79.2%.\n",
    "\n",
    "#### How are decision trees constructed and how do they make predictions?\n",
    "\n",
    "Decision trees are diagrams that look like trees. They have nodes, leafs and edges. In order to construct a decision tree, the computer looks at each of the features and tries to find a feature that correlates best with the target variables. Seperating our data in two groups based on this feature would provide the biggest increase in uniformity or information gain. Then we place one of the groups in one node and the second half in the second node. We continue this process until we get the most uniform leafs possible, i.e. only containing one of classes. In a way this is like playing the game of 20 questions. When we start the game we ask whether the object is a plant, animal or a human. Depending on the answer we get, we ask more and more specific questions that narrows down our choices. Decision trees do this in a process called minimizing the entrophy or disorder in the data. In other words, which question should I ask that would put all the objects of one class to the one side, and all the other objects of the second class to the other side.Once we find these set of question we can construct our decision tree.\n",
    "\n",
    "I have included a picture of my decision tree below. Here's how they make a prediction. We start by asking a question at the top. In this case whether variable X[32] which is labelled failures is less than 0.5. If it is less than 0.5, mostly graduates go to the left and if it is more than 0.5 mostly dropouts go the right. We continue this process until we reach one of the leafs, which tell us that a decision is reached. For example if you end up in the very first leaf, you can see that it contains mostly graduates (172 graduate and only 42 dropouts), therefore the anwer is going to be \"yes\", this student is going to graduate. However if you look at the third leaf, you can see that it contains most dropouts (16 dropouts and 3 graduates), so we can identify a student as a future dropout if it ends up in this leaf.\n"
   ]
  },
  {
   "cell_type": "code",
   "execution_count": 14,
   "metadata": {
    "collapsed": false
   },
   "outputs": [
    {
     "data": {
      "image/png": "[encoded data removed]",
      "text/plain": [
       "<IPython.core.display.Image object>"
      ]
     },
     "execution_count": 14,
     "metadata": {},
     "output_type": "execute_result"
    }
   ],
   "source": [
    "from IPython.display import Image\n",
    "Image(\"tree.png\")"
   ]
  },
  {
   "cell_type": "code",
   "execution_count": 20,
   "metadata": {
    "collapsed": false
   },
   "outputs": [
    {
     "name": "stdout",
     "output_type": "stream",
     "text": [
      "{'min_samples_split': 16, 'max_depth': 3}\n",
      "0.781954887218\n"
     ]
    }
   ],
   "source": [
    "# TODO: Fine-tune your model and report the best F1 score\n",
    "from sklearn import grid_search\n",
    "from sklearn import metrics\n",
    "from sklearn import cross_validation\n",
    "from sklearn.metrics import make_scorer,f1_score,accuracy_score\n",
    "\n",
    "#Find the best parameters\n",
    "scoring_function = make_scorer(accuracy_score)\n",
    "parameters = {'max_depth':[3, 4, 5, 6, 7],'min_samples_split':[6, 8, 10, 12, 14, 16]}\n",
    "tree_clf = tree.DecisionTreeClassifier()\n",
    "optimum_tree = grid_search.GridSearchCV(tree_clf, parameters,scoring_function)\n",
    "optimum_tree.fit(X_train, y_train) \n",
    "print optimum_tree.best_params_\n",
    "\n",
    "#Print the F1 score for the optimum tree\n",
    "y_pred = optimum_tree.predict(X_test)\n",
    "print f1_score(y_test.values, y_pred,pos_label='yes')\n",
    "\n",
    "clf = tree.DecisionTreeClassifier(max_depth=3,min_samples_split=12)\n",
    "clf.fit(X_train,y_train)\n",
    "tree.export_graphviz(clf,out_file='tree.dot')"
   ]
  },
  {
   "cell_type": "code",
   "execution_count": 19,
   "metadata": {
    "collapsed": false
   },
   "outputs": [
    {
     "name": "stdout",
     "output_type": "stream",
     "text": [
      "{'n_neighbors': 9}\n",
      "0.797202797203\n"
     ]
    }
   ],
   "source": [
    "#Some optimization for KNN\n",
    "# TODO: Fine-tune your model and report the best F1 score\n",
    "from sklearn import grid_search\n",
    "from sklearn import metrics\n",
    "from sklearn import cross_validation\n",
    "from sklearn.metrics import make_scorer,f1_score,accuracy_score\n",
    "\n",
    "#Find the best parameters\n",
    "scoring_function = make_scorer(accuracy_score)\n",
    "parameters = {'n_neighbors':[3, 4, 5, 6, 7, 8, 9, 10]}\n",
    "knn_clf = neighbors.KNeighborsClassifier()\n",
    "optimum_tree = grid_search.GridSearchCV(knn_clf, parameters,scoring_function)\n",
    "optimum_tree.fit(X_train, y_train) \n",
    "print optimum_tree.best_params_\n",
    "\n",
    "#Print the F1 score for the optimum tree\n",
    "y_pred = optimum_tree.predict(X_test)\n",
    "print f1_score(y_test.values, y_pred,pos_label='yes')"
   ]
  },
  {
   "cell_type": "code",
   "execution_count": 32,
   "metadata": {
    "collapsed": false
   },
   "outputs": [
    {
     "name": "stdout",
     "output_type": "stream",
     "text": [
      "{'kernel': 'rbf', 'C': 1, 'gamma': 0.1}\n",
      "0.791946308725\n"
     ]
    }
   ],
   "source": [
    "#Some optimization for SVM\n",
    "# TODO: Fine-tune your model and report the best F1 score\n",
    "from sklearn import grid_search\n",
    "from sklearn import metrics\n",
    "from sklearn import cross_validation\n",
    "from sklearn.metrics import make_scorer,f1_score,accuracy_score\n",
    "\n",
    "#Find the best parameters\n",
    "scoring_function = make_scorer(accuracy_score)\n",
    "parameters = {'kernel':['linear', 'poly', 'rbf', 'sigmoid', ], 'C':[0.4,0.6,0.8,1], 'gamma':[0.01,0.1,0.2,0.5,1]}\n",
    "new_clf = svm.SVC()\n",
    "optimum_tree = grid_search.GridSearchCV(new_clf, parameters,scoring_function)\n",
    "optimum_tree.fit(X_train, y_train) \n",
    "print optimum_tree.best_params_\n",
    "\n",
    "#Print the F1 score for the optimum tree\n",
    "y_pred = optimum_tree.predict(X_test)\n",
    "print f1_score(y_test.values, y_pred,pos_label='yes')"
   ]
  },
  {
   "cell_type": "code",
   "execution_count": null,
   "metadata": {
    "collapsed": true
   },
   "outputs": [],
   "source": []
  },
  {
   "cell_type": "code",
   "execution_count": null,
   "metadata": {
    "collapsed": true
   },
   "outputs": [],
   "source": []
  }
 ],
 "metadata": {
  "kernelspec": {
   "display_name": "Python 2",
   "language": "python",
   "name": "python2"
  },
  "language_info": {
   "codemirror_mode": {
    "name": "ipython",
    "version": 2
   },
   "file_extension": ".py",
   "mimetype": "text/x-python",
   "name": "python",
   "nbconvert_exporter": "python",
   "pygments_lexer": "ipython2",
   "version": "2.7.11"
  }
 },
 "nbformat": 4,
 "nbformat_minor": 0
}
